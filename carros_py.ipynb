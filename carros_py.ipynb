{
  "nbformat": 4,
  "nbformat_minor": 0,
  "metadata": {
    "colab": {
      "name": "carros.py",
      "provenance": [],
      "collapsed_sections": [],
      "authorship_tag": "ABX9TyMWvufh5rR44e0JPdGOL2eb",
      "include_colab_link": true
    },
    "kernelspec": {
      "name": "python3",
      "display_name": "Python 3"
    }
  },
  "cells": [
    {
      "cell_type": "markdown",
      "metadata": {
        "id": "view-in-github",
        "colab_type": "text"
      },
      "source": [
        "<a href=\"https://colab.research.google.com/github/Jaime-csantos/pythonbirds/blob/simples/carros_py.ipynb\" target=\"_parent\"><img src=\"https://colab.research.google.com/assets/colab-badge.svg\" alt=\"Open In Colab\"/></a>"
      ]
    },
    {
      "cell_type": "code",
      "metadata": {
        "id": "A6hET6uDKbq5"
      },
      "source": [
        "from carro02 import Carro, Bateria, CarroEletrico\r\n"
      ],
      "execution_count": null,
      "outputs": []
    },
    {
      "cell_type": "code",
      "metadata": {
        "id": "ygk5YQeOXjDy"
      },
      "source": [
        ""
      ],
      "execution_count": null,
      "outputs": []
    },
    {
      "cell_type": "code",
      "metadata": {
        "id": "1V49nB2ujy0t"
      },
      "source": [
        ""
      ],
      "execution_count": null,
      "outputs": []
    },
    {
      "cell_type": "code",
      "metadata": {
        "id": "GnmFCHno1lHd"
      },
      "source": [
        ""
      ],
      "execution_count": null,
      "outputs": []
    },
    {
      "cell_type": "code",
      "metadata": {
        "id": "Su1YCUZh15jy"
      },
      "source": [
        ""
      ],
      "execution_count": null,
      "outputs": []
    },
    {
      "cell_type": "code",
      "metadata": {
        "id": "y292WSytLv7m"
      },
      "source": [
        "meu_carro_novo = Carro('ford', 'fiesta', 1995)"
      ],
      "execution_count": null,
      "outputs": []
    },
    {
      "cell_type": "code",
      "metadata": {
        "id": "YZUYtVyoMiEe",
        "colab": {
          "base_uri": "https://localhost:8080/"
        },
        "outputId": "08a52642-b089-40c2-b3b7-d18656e21df7"
      },
      "source": [
        "print(meu_carro_novo.nome_descritivo())"
      ],
      "execution_count": null,
      "outputs": [
        {
          "output_type": "stream",
          "text": [
            "1995 Ford Fiesta\n"
          ],
          "name": "stdout"
        }
      ]
    },
    {
      "cell_type": "code",
      "metadata": {
        "id": "zqUMNim2NEW1"
      },
      "source": [
        ""
      ],
      "execution_count": null,
      "outputs": []
    },
    {
      "cell_type": "code",
      "metadata": {
        "colab": {
          "base_uri": "https://localhost:8080/"
        },
        "id": "RXYhpqFHOBOU",
        "outputId": "be0e9f88-c72d-4751-e097-b3e7df16e1d8"
      },
      "source": [
        "print(meu_carro_novo.nome_descritivo())"
      ],
      "execution_count": null,
      "outputs": [
        {
          "output_type": "stream",
          "text": [
            "1995 Ford Fiesta\n"
          ],
          "name": "stdout"
        }
      ]
    },
    {
      "cell_type": "code",
      "metadata": {
        "colab": {
          "base_uri": "https://localhost:8080/"
        },
        "id": "AS67PaUBOUKx",
        "outputId": "92e3f64c-b448-4c09-8047-adaa5cc4c7cc"
      },
      "source": [
        "print(meu_carro_novo.ler_hodometro())"
      ],
      "execution_count": null,
      "outputs": [
        {
          "output_type": "stream",
          "text": [
            "Este carro tem 0 kilometros rodados.\n"
          ],
          "name": "stdout"
        }
      ]
    },
    {
      "cell_type": "code",
      "metadata": {
        "id": "-7GyRj_pRo03"
      },
      "source": [
        "meu_carro_novo.leitura_hodometro = 30"
      ],
      "execution_count": null,
      "outputs": []
    },
    {
      "cell_type": "code",
      "metadata": {
        "colab": {
          "base_uri": "https://localhost:8080/"
        },
        "id": "lGqwVLfcRwRk",
        "outputId": "d9848598-43b0-403d-aed7-7459ceea8566"
      },
      "source": [
        "print(meu_carro_novo.ler_hodometro())"
      ],
      "execution_count": null,
      "outputs": [
        {
          "output_type": "stream",
          "text": [
            "Este carro tem 30 kilometros rodados.\n"
          ],
          "name": "stdout"
        }
      ]
    },
    {
      "cell_type": "code",
      "metadata": {
        "id": "hphl-i-UR1ks"
      },
      "source": [
        "meu_carro_novo.atualizar_hodometro(50)"
      ],
      "execution_count": null,
      "outputs": []
    },
    {
      "cell_type": "code",
      "metadata": {
        "colab": {
          "base_uri": "https://localhost:8080/",
          "height": 36
        },
        "id": "BXlH9EAnSkL5",
        "outputId": "122d84f2-3cb3-4bc6-ef40-588234811e0a"
      },
      "source": [
        "meu_carro_novo.ler_hodometro()"
      ],
      "execution_count": null,
      "outputs": [
        {
          "output_type": "execute_result",
          "data": {
            "application/vnd.google.colaboratory.intrinsic+json": {
              "type": "string"
            },
            "text/plain": [
              "'Este carro tem 50 kilometros rodados.'"
            ]
          },
          "metadata": {
            "tags": []
          },
          "execution_count": 16
        }
      ]
    },
    {
      "cell_type": "code",
      "metadata": {
        "colab": {
          "base_uri": "https://localhost:8080/"
        },
        "id": "VYQotSAATbED",
        "outputId": "38671e90-de73-432c-f505-9e140abe0848"
      },
      "source": [
        "meu_carro_novo.atualizar_hodometro(10)"
      ],
      "execution_count": null,
      "outputs": [
        {
          "output_type": "stream",
          "text": [
            "Voce não pode burlar o hodometro.\n"
          ],
          "name": "stdout"
        }
      ]
    },
    {
      "cell_type": "code",
      "metadata": {
        "id": "R7kQKObPVSJw"
      },
      "source": [
        "meu_carro_novo.incrementar_hodometro(1500)"
      ],
      "execution_count": null,
      "outputs": []
    },
    {
      "cell_type": "code",
      "metadata": {
        "colab": {
          "base_uri": "https://localhost:8080/",
          "height": 36
        },
        "id": "fprR32VtVSpN",
        "outputId": "240844f5-c0f7-4f98-ce93-8b673ee67fe4"
      },
      "source": [
        "meu_carro_novo.ler_hodometro()"
      ],
      "execution_count": null,
      "outputs": [
        {
          "output_type": "execute_result",
          "data": {
            "application/vnd.google.colaboratory.intrinsic+json": {
              "type": "string"
            },
            "text/plain": [
              "'Este carro tem 1550 kilometros rodados.'"
            ]
          },
          "metadata": {
            "tags": []
          },
          "execution_count": 12
        }
      ]
    },
    {
      "cell_type": "code",
      "metadata": {
        "id": "HRrvLEtAEbg2"
      },
      "source": [
        "meu_carro_usado = Carro('toyota', 'corolla', 2015) "
      ],
      "execution_count": null,
      "outputs": []
    },
    {
      "cell_type": "code",
      "metadata": {
        "id": "HCNIpgHNEmE9"
      },
      "source": [
        "meu_carro_usado.incrementar_hodometro(4500)"
      ],
      "execution_count": null,
      "outputs": []
    },
    {
      "cell_type": "code",
      "metadata": {
        "colab": {
          "base_uri": "https://localhost:8080/"
        },
        "id": "2s7RzXKFFj13",
        "outputId": "237eeff3-4f57-44ff-95fc-71c05d46afa6"
      },
      "source": [
        "print(meu_carro_usado.detalhes_carro())"
      ],
      "execution_count": null,
      "outputs": [
        {
          "output_type": "stream",
          "text": [
            "2015 Toyota Corolla 4500\n"
          ],
          "name": "stdout"
        }
      ]
    },
    {
      "cell_type": "code",
      "metadata": {
        "colab": {
          "base_uri": "https://localhost:8080/",
          "height": 36
        },
        "id": "L_pbgBWlFxwy",
        "outputId": "7249d380-8410-4a72-da77-dfeecaf4b728"
      },
      "source": [
        "meu_carro_usado.ler_hodometro()"
      ],
      "execution_count": null,
      "outputs": [
        {
          "output_type": "execute_result",
          "data": {
            "application/vnd.google.colaboratory.intrinsic+json": {
              "type": "string"
            },
            "text/plain": [
              "'Este carro tem 4500 kilometros rodados.'"
            ]
          },
          "metadata": {
            "tags": []
          },
          "execution_count": 16
        }
      ]
    },
    {
      "cell_type": "code",
      "metadata": {
        "id": "XC71bcVRF2hN"
      },
      "source": [
        "meu_carro_usado.incrementar_hodometro(2000)"
      ],
      "execution_count": null,
      "outputs": []
    },
    {
      "cell_type": "code",
      "metadata": {
        "colab": {
          "base_uri": "https://localhost:8080/",
          "height": 36
        },
        "id": "fCPGDzKWGEAX",
        "outputId": "37f95f96-eb87-42f9-b4aa-007f715e6bd7"
      },
      "source": [
        "meu_carro_usado.ler_hodometro()"
      ],
      "execution_count": null,
      "outputs": [
        {
          "output_type": "execute_result",
          "data": {
            "application/vnd.google.colaboratory.intrinsic+json": {
              "type": "string"
            },
            "text/plain": [
              "'Este carro tem 6500 kilometros rodados.'"
            ]
          },
          "metadata": {
            "tags": []
          },
          "execution_count": 18
        }
      ]
    },
    {
      "cell_type": "code",
      "metadata": {
        "colab": {
          "base_uri": "https://localhost:8080/",
          "height": 36
        },
        "id": "O1k5b_S02hjE",
        "outputId": "20edd16a-7161-4ac4-955b-feb25a7597cc"
      },
      "source": [
        "meu_carro_usado.donos_do_carro()"
      ],
      "execution_count": null,
      "outputs": [
        {
          "output_type": "execute_result",
          "data": {
            "application/vnd.google.colaboratory.intrinsic+json": {
              "type": "string"
            },
            "text/plain": [
              "'Este carro teve 0 dono(s).'"
            ]
          },
          "metadata": {
            "tags": []
          },
          "execution_count": 19
        }
      ]
    },
    {
      "cell_type": "code",
      "metadata": {
        "id": "YIX2_Kp55p4D"
      },
      "source": [
        "meu_carro_usado.atualizar_donos(2)"
      ],
      "execution_count": null,
      "outputs": []
    },
    {
      "cell_type": "code",
      "metadata": {
        "colab": {
          "base_uri": "https://localhost:8080/",
          "height": 36
        },
        "id": "GRokycmR5qMM",
        "outputId": "13c8976c-fc1e-4040-8376-3b6fb350c9b5"
      },
      "source": [
        "meu_carro_usado.donos_do_carro()"
      ],
      "execution_count": null,
      "outputs": [
        {
          "output_type": "execute_result",
          "data": {
            "application/vnd.google.colaboratory.intrinsic+json": {
              "type": "string"
            },
            "text/plain": [
              "'Este carro teve 2 dono(s).'"
            ]
          },
          "metadata": {
            "tags": []
          },
          "execution_count": 21
        }
      ]
    },
    {
      "cell_type": "code",
      "metadata": {
        "id": "StkZtp3_5qZK"
      },
      "source": [
        "meu_carro_usado.atualizar_donos(10)"
      ],
      "execution_count": null,
      "outputs": []
    },
    {
      "cell_type": "code",
      "metadata": {
        "colab": {
          "base_uri": "https://localhost:8080/",
          "height": 36
        },
        "id": "7m4H_KoD6J7e",
        "outputId": "f7dc2e9d-2931-4447-f068-5457130029c5"
      },
      "source": [
        "meu_carro_usado.donos_do_carro()"
      ],
      "execution_count": null,
      "outputs": [
        {
          "output_type": "execute_result",
          "data": {
            "application/vnd.google.colaboratory.intrinsic+json": {
              "type": "string"
            },
            "text/plain": [
              "'Este carro teve 12 dono(s).'"
            ]
          },
          "metadata": {
            "tags": []
          },
          "execution_count": 23
        }
      ]
    },
    {
      "cell_type": "markdown",
      "metadata": {
        "id": "1QNsyRDc7dGY"
      },
      "source": [
        "Exercicio 28"
      ]
    },
    {
      "cell_type": "code",
      "metadata": {
        "id": "qruaRnnX7X4C"
      },
      "source": [
        "class Animal():\r\n",
        "    \"\"\"Classe das que define as caracteristicas dos animais\"\"\"\r\n",
        "\r\n",
        "    def __init__(self, nome, idade, sexo, cor, especie, alimento, tempo_vida, som_emite, nro_anos = 1):\r\n",
        "       \"\"\"Atributos que descreve o animal\"\"\"\r\n",
        "       self.nome = nome\r\n",
        "       self.idade = idade\r\n",
        "       self.sexo = sexo\r\n",
        "       self.cor = cor\r\n",
        "       self.especie = especie\r\n",
        "       self.alimento = alimento\r\n",
        "       self.tempo_vida = tempo_vida\r\n",
        "       self.som_emite = som_emite\r\n",
        "       self.nro_anos = 1\r\n",
        "\r\n",
        "    def animal_detalhes(self):\r\n",
        "       \"\"\"Metodo que faz um resumo das caracteristicas do animal , segundo a sua espécie\"\"\"\r\n",
        "       print(f\"\\nEsse tipo de animal pertece a Raca:{self.especie.title()} vive aproximadamente {str(self.tempo_vida)} anos. \") \r\n",
        "       print(f\"\\nSeus habitos alimentares sao basicamente:{self.alimento.title()} e emite o som {self.som_emite.title()}\")\r\n",
        "       print(f\"\\nNele esta no zoologico ha:{str(self.nro_anos)} anos.\")\r\n",
        "\r\n",
        "    def mensagem(self):\r\n",
        "        \"\"\"metodo que exibe a qtde de anos no zzologico\"\"\"\r\n",
        "        print(f\"Ola{self.nome.title()} voce e um {self.especie.title()}\")\r\n",
        "\r\n",
        "    def anos_no_zoo(self):\r\n",
        "        \"\"\"Metodo usado para iterar o numeor de anos que o animals esteve no zoologico, a cada ano somando mais um\"\"\"\r\n",
        "        self.nro_anos += 1\r\n",
        "\r\n",
        "    def resetar_anos_zoo(self):\r\n",
        "        \"\"\"metodo que zera a qtde de anos\"\"\"\r\n",
        "        self.nro_anos = 0        \r\n",
        "\r\n",
        "\r\n"
      ],
      "execution_count": null,
      "outputs": []
    },
    {
      "cell_type": "code",
      "metadata": {
        "id": "4VksXbtW9ex7"
      },
      "source": [
        "class Caracteristicas(Animal):\r\n",
        "    \"\"\"Classe que armazena as caraterisitcas dos animais\"\"\"\r\n",
        "    def __init__(self, nome, idade, sexo, cor, especie, alimento, tempo_vida, som_emite, nro_anos = 1):\r\n",
        "        \"\"\"Inicializa os atributos dos animais\"\"\"\r\n",
        "\r\n",
        "    def Mostra_caracteristicas(self,caracteristicas):\r\n",
        "        \"\"\"Mostra as caracteristicas\"\"\"\r\n",
        "        print(f\"Este animal possue as caracteristicas:\")\r\n",
        "\r\n",
        "        for caracteres in caracteristicas:\r\n",
        "            print(f\" -{caracteres}\")\r\n",
        "\r\n",
        "\r\n",
        "\r\n"
      ],
      "execution_count": null,
      "outputs": []
    },
    {
      "cell_type": "code",
      "metadata": {
        "id": "O2myIaH99ijZ"
      },
      "source": [
        "cao_caracteres = Caracteristicas('tibiti',3, 'masculino', 'preto e branco', 'felino', 'carne', 16, 'mia')"
      ],
      "execution_count": null,
      "outputs": []
    },
    {
      "cell_type": "code",
      "metadata": {
        "colab": {
          "base_uri": "https://localhost:8080/",
          "height": 172
        },
        "id": "huPJqjrn-X39",
        "outputId": "e101d311-3f63-4f7d-e4ae-0e638af3266e"
      },
      "source": [
        "cao_caracteres.Mostra_caracteristicas()"
      ],
      "execution_count": null,
      "outputs": [
        {
          "output_type": "error",
          "ename": "TypeError",
          "evalue": "ignored",
          "traceback": [
            "\u001b[0;31m---------------------------------------------------------------------------\u001b[0m",
            "\u001b[0;31mTypeError\u001b[0m                                 Traceback (most recent call last)",
            "\u001b[0;32m<ipython-input-27-2d331afa6bd5>\u001b[0m in \u001b[0;36m<module>\u001b[0;34m()\u001b[0m\n\u001b[0;32m----> 1\u001b[0;31m \u001b[0mcao_caracteres\u001b[0m\u001b[0;34m.\u001b[0m\u001b[0mMostra_caracteristicas\u001b[0m\u001b[0;34m(\u001b[0m\u001b[0;34m)\u001b[0m\u001b[0;34m\u001b[0m\u001b[0;34m\u001b[0m\u001b[0m\n\u001b[0m",
            "\u001b[0;31mTypeError\u001b[0m: Mostra_caracteristicas() missing 1 required positional argument: 'caracteristicas'"
          ]
        }
      ]
    },
    {
      "cell_type": "code",
      "metadata": {
        "id": "xoZ4yWnL7YOA"
      },
      "source": [
        "gato = Animal('tibiti',3, 'masculino', 'preto e branco', 'felino', 'carne', 16, 'mia')"
      ],
      "execution_count": null,
      "outputs": []
    },
    {
      "cell_type": "code",
      "metadata": {
        "id": "Sn7GwqJb7YZW"
      },
      "source": [
        "cachorro = Animal('hellary', 4, 'feminino', 'marrom', 'cao', 'ração', 15, 'late')"
      ],
      "execution_count": null,
      "outputs": []
    },
    {
      "cell_type": "code",
      "metadata": {
        "id": "fg0QicMN7YnI"
      },
      "source": [
        "gato2 = Animal('severino',10, 'masculino', 'cinza', 'felino', 'carne', 20, 'mia')"
      ],
      "execution_count": null,
      "outputs": []
    },
    {
      "cell_type": "code",
      "metadata": {
        "id": "XXmmLJKWbRsR"
      },
      "source": [
        "gato.anos_no_zoo()"
      ],
      "execution_count": null,
      "outputs": []
    },
    {
      "cell_type": "code",
      "metadata": {
        "id": "7PCjdmKrbR-H"
      },
      "source": [
        "gato.animal_detalhes()"
      ],
      "execution_count": null,
      "outputs": []
    },
    {
      "cell_type": "code",
      "metadata": {
        "id": "avKTnWpkbSHF"
      },
      "source": [
        "cachorro.animal_detalhes()"
      ],
      "execution_count": null,
      "outputs": []
    },
    {
      "cell_type": "code",
      "metadata": {
        "id": "FRUClqlibSPD"
      },
      "source": [
        "cachorro.anos_no_zoo()"
      ],
      "execution_count": null,
      "outputs": []
    },
    {
      "cell_type": "code",
      "metadata": {
        "id": "3x0jfnTidCVw"
      },
      "source": [
        "cachorro.resetar_anos_zoo()"
      ],
      "execution_count": null,
      "outputs": []
    },
    {
      "cell_type": "code",
      "metadata": {
        "id": "D3nK5VRPdO6p"
      },
      "source": [
        "cachorro.animal_detalhes()"
      ],
      "execution_count": null,
      "outputs": []
    },
    {
      "cell_type": "markdown",
      "metadata": {
        "id": "dw5pheuGfp7l"
      },
      "source": [
        "Herança"
      ]
    },
    {
      "cell_type": "code",
      "metadata": {
        "id": "JwnOxlFffnJi"
      },
      "source": [
        ""
      ],
      "execution_count": null,
      "outputs": []
    },
    {
      "cell_type": "code",
      "metadata": {
        "id": "Ktwtf1xjftLf"
      },
      "source": [
        "meu_tesla = CarroEletrico('tesla', 'modelo S', 2020)"
      ],
      "execution_count": null,
      "outputs": []
    },
    {
      "cell_type": "code",
      "metadata": {
        "id": "OUA6eptcq_Fz"
      },
      "source": [
        "print(meu_tesla.nome_descritivo())"
      ],
      "execution_count": null,
      "outputs": []
    },
    {
      "cell_type": "code",
      "metadata": {
        "id": "gEaUb2SdPnlH"
      },
      "source": [
        "from carro02 import Bateria"
      ],
      "execution_count": null,
      "outputs": []
    },
    {
      "cell_type": "code",
      "metadata": {
        "id": "inFA1EQaq_ci"
      },
      "source": [
        "meu_tesla.descrever_bateria()"
      ],
      "execution_count": null,
      "outputs": []
    },
    {
      "cell_type": "code",
      "metadata": {
        "id": "yVkdGfnvq_lu"
      },
      "source": [
        "meu_tesla.abastecer_gasolina()"
      ],
      "execution_count": null,
      "outputs": []
    },
    {
      "cell_type": "code",
      "metadata": {
        "id": "xOB2Orfnu7me"
      },
      "source": [
        "meu_tesla_2 = CarroEletrico('tesla', 'modelo x', 2020)"
      ],
      "execution_count": null,
      "outputs": []
    },
    {
      "cell_type": "code",
      "metadata": {
        "id": "8K5DCcoiu79W"
      },
      "source": [
        "meu_tesla_2.nome_descritivo()"
      ],
      "execution_count": null,
      "outputs": []
    },
    {
      "cell_type": "code",
      "metadata": {
        "id": "Nj58CG_eu8HV"
      },
      "source": [
        "meu_tesla_2.bateria.descrever_bateria()"
      ],
      "execution_count": null,
      "outputs": []
    },
    {
      "cell_type": "code",
      "metadata": {
        "id": "PM3aHKhxu8P3"
      },
      "source": [
        "meu_tesla_3 = CarroEletrico('tesla', 'modelo T', 2020)"
      ],
      "execution_count": null,
      "outputs": []
    },
    {
      "cell_type": "code",
      "metadata": {
        "colab": {
          "base_uri": "https://localhost:8080/",
          "height": 36
        },
        "id": "0GLLsO3lKnn5",
        "outputId": "56d39c1e-e324-470a-8508-eae8d81943ea"
      },
      "source": [
        "meu_tesla_3.nome_descritivo()"
      ],
      "execution_count": null,
      "outputs": [
        {
          "output_type": "execute_result",
          "data": {
            "application/vnd.google.colaboratory.intrinsic+json": {
              "type": "string"
            },
            "text/plain": [
              "'2020 Tesla Modelo T'"
            ]
          },
          "metadata": {
            "tags": []
          },
          "execution_count": 43
        }
      ]
    },
    {
      "cell_type": "code",
      "metadata": {
        "colab": {
          "base_uri": "https://localhost:8080/"
        },
        "id": "YupZBCPoMHiR",
        "outputId": "5c3cf79a-3cfc-441d-d438-e7bf90c398a9"
      },
      "source": [
        "meu_tesla_3.bateria.descrever_bateria()"
      ],
      "execution_count": null,
      "outputs": [
        {
          "output_type": "stream",
          "text": [
            "Este carro tem uma bateria de 75 kwh.\n"
          ],
          "name": "stdout"
        }
      ]
    },
    {
      "cell_type": "code",
      "metadata": {
        "colab": {
          "base_uri": "https://localhost:8080/"
        },
        "id": "51SA4m5MMPW-",
        "outputId": "6fd49454-df78-48f8-9420-dd0e7b9c3cf2"
      },
      "source": [
        "meu_tesla_3.bateria.distancia_possivel()"
      ],
      "execution_count": null,
      "outputs": [
        {
          "output_type": "stream",
          "text": [
            "Este carro pode andar aproximadamente 240 kilometros numa carga total.\n"
          ],
          "name": "stdout"
        }
      ]
    },
    {
      "cell_type": "markdown",
      "metadata": {
        "id": "8iXy3i6XzW1h"
      },
      "source": [
        ""
      ]
    },
    {
      "cell_type": "markdown",
      "metadata": {
        "id": "gNqtIO31N07L"
      },
      "source": [
        "Missão 29"
      ]
    },
    {
      "cell_type": "code",
      "metadata": {
        "id": "tLJdmY8cN4x0",
        "colab": {
          "base_uri": "https://localhost:8080/",
          "height": 172
        },
        "outputId": "49210c1e-3ef3-4a9c-a30f-c28edd2664ba"
      },
      "source": [
        "meu_pryus = CarroHibrido('pryus', 'modelo A', 2021)"
      ],
      "execution_count": null,
      "outputs": [
        {
          "output_type": "error",
          "ename": "NameError",
          "evalue": "ignored",
          "traceback": [
            "\u001b[0;31m---------------------------------------------------------------------------\u001b[0m",
            "\u001b[0;31mNameError\u001b[0m                                 Traceback (most recent call last)",
            "\u001b[0;32m<ipython-input-32-efa6bdd33097>\u001b[0m in \u001b[0;36m<module>\u001b[0;34m()\u001b[0m\n\u001b[0;32m----> 1\u001b[0;31m \u001b[0mmeu_pryus\u001b[0m \u001b[0;34m=\u001b[0m \u001b[0mCarroHibrido\u001b[0m\u001b[0;34m(\u001b[0m\u001b[0;34m'pryus'\u001b[0m\u001b[0;34m,\u001b[0m \u001b[0;34m'modelo A'\u001b[0m\u001b[0;34m,\u001b[0m \u001b[0;36m2021\u001b[0m\u001b[0;34m)\u001b[0m\u001b[0;34m\u001b[0m\u001b[0;34m\u001b[0m\u001b[0m\n\u001b[0m",
            "\u001b[0;31mNameError\u001b[0m: name 'CarroHibrido' is not defined"
          ]
        }
      ]
    },
    {
      "cell_type": "code",
      "metadata": {
        "id": "xASUmngFyHLB"
      },
      "source": [
        "from carro02 import Bateria"
      ],
      "execution_count": null,
      "outputs": []
    },
    {
      "cell_type": "code",
      "metadata": {
        "id": "nU3kdRWIRSvl"
      },
      "source": [
        "from carro02 import CarroEletrico"
      ],
      "execution_count": null,
      "outputs": []
    },
    {
      "cell_type": "code",
      "metadata": {
        "id": "mAY09MFay-FX"
      },
      "source": [
        "from carro02 import CarroEletrico"
      ],
      "execution_count": null,
      "outputs": []
    },
    {
      "cell_type": "markdown",
      "metadata": {
        "id": "R3N5XwaiZEmB"
      },
      "source": [
        "Importando classes"
      ]
    },
    {
      "cell_type": "code",
      "metadata": {
        "id": "D3fYg2WjZCbm"
      },
      "source": [
        "import carro02"
      ],
      "execution_count": null,
      "outputs": []
    },
    {
      "cell_type": "code",
      "metadata": {
        "id": "mse9ZjjWZXIN"
      },
      "source": [
        "meu_corolla = carro02.Carro('toyota', 'corolla', 2020)"
      ],
      "execution_count": null,
      "outputs": []
    },
    {
      "cell_type": "code",
      "metadata": {
        "colab": {
          "base_uri": "https://localhost:8080/",
          "height": 36
        },
        "id": "duwe5UsFZ6-q",
        "outputId": "f9d42f3b-05a0-4562-e647-1e5b2039c676"
      },
      "source": [
        "meu_corolla.nome_descritivo()"
      ],
      "execution_count": null,
      "outputs": [
        {
          "output_type": "execute_result",
          "data": {
            "application/vnd.google.colaboratory.intrinsic+json": {
              "type": "string"
            },
            "text/plain": [
              "'2020 Toyota Corolla'"
            ]
          },
          "metadata": {
            "tags": []
          },
          "execution_count": 24
        }
      ]
    },
    {
      "cell_type": "code",
      "metadata": {
        "id": "fKioiGd7aBWy"
      },
      "source": [
        "meu_tesla = carro02.CarroEletrico('tesla', 'modelo xx', 2020)"
      ],
      "execution_count": null,
      "outputs": []
    },
    {
      "cell_type": "code",
      "metadata": {
        "colab": {
          "base_uri": "https://localhost:8080/",
          "height": 36
        },
        "id": "hchdRSAaaRHa",
        "outputId": "d7874fa2-f3f6-4081-8aa4-b1286ab52f23"
      },
      "source": [
        "meu_tesla.nome_descritivo()"
      ],
      "execution_count": null,
      "outputs": [
        {
          "output_type": "execute_result",
          "data": {
            "application/vnd.google.colaboratory.intrinsic+json": {
              "type": "string"
            },
            "text/plain": [
              "'2020 Tesla Modelo Xx'"
            ]
          },
          "metadata": {
            "tags": []
          },
          "execution_count": 26
        }
      ]
    },
    {
      "cell_type": "code",
      "metadata": {
        "id": "sA5Whn38acNd"
      },
      "source": [
        "from carro02 import *"
      ],
      "execution_count": null,
      "outputs": []
    },
    {
      "cell_type": "code",
      "metadata": {
        "id": "djpps21Bagyu"
      },
      "source": [
        "meu_carro = Carro('vw', 'fusca', 1970)"
      ],
      "execution_count": null,
      "outputs": []
    },
    {
      "cell_type": "code",
      "metadata": {
        "colab": {
          "base_uri": "https://localhost:8080/",
          "height": 36
        },
        "id": "D-neMsDJanhS",
        "outputId": "c044b048-5340-4b0d-ed2b-5d22de71344c"
      },
      "source": [
        "meu_carro.nome_descritivo()"
      ],
      "execution_count": null,
      "outputs": [
        {
          "output_type": "execute_result",
          "data": {
            "application/vnd.google.colaboratory.intrinsic+json": {
              "type": "string"
            },
            "text/plain": [
              "'1970 Vw Fusca'"
            ]
          },
          "metadata": {
            "tags": []
          },
          "execution_count": 31
        }
      ]
    },
    {
      "cell_type": "code",
      "metadata": {
        "id": "0sFWOyXhbFCZ"
      },
      "source": [
        ""
      ],
      "execution_count": null,
      "outputs": []
    },
    {
      "cell_type": "code",
      "metadata": {
        "id": "AFU84ir3b1_d",
        "colab": {
          "base_uri": "https://localhost:8080/",
          "height": 316
        },
        "outputId": "2280fe2c-e69a-43f8-ed3d-30be508ffa7a"
      },
      "source": [
        "from carro02 import Carro"
      ],
      "execution_count": 3,
      "outputs": [
        {
          "output_type": "error",
          "ename": "ModuleNotFoundError",
          "evalue": "ignored",
          "traceback": [
            "\u001b[0;31m---------------------------------------------------------------------------\u001b[0m",
            "\u001b[0;31mModuleNotFoundError\u001b[0m                       Traceback (most recent call last)",
            "\u001b[0;32m<ipython-input-3-0dec3365f63d>\u001b[0m in \u001b[0;36m<module>\u001b[0;34m()\u001b[0m\n\u001b[0;32m----> 1\u001b[0;31m \u001b[0;32mfrom\u001b[0m \u001b[0mcarro02\u001b[0m \u001b[0;32mimport\u001b[0m \u001b[0mCarro\u001b[0m\u001b[0;34m\u001b[0m\u001b[0;34m\u001b[0m\u001b[0m\n\u001b[0m",
            "\u001b[0;31mModuleNotFoundError\u001b[0m: No module named 'carro02'",
            "",
            "\u001b[0;31m---------------------------------------------------------------------------\u001b[0;32m\nNOTE: If your import is failing due to a missing package, you can\nmanually install dependencies using either !pip or !apt.\n\nTo view examples of installing some common dependencies, click the\n\"Open Examples\" button below.\n\u001b[0;31m---------------------------------------------------------------------------\u001b[0m\n"
          ]
        }
      ]
    },
    {
      "cell_type": "markdown",
      "metadata": {
        "id": "VXlYAVxY68VR"
      },
      "source": [
        ""
      ]
    },
    {
      "cell_type": "code",
      "metadata": {
        "id": "KyUX6Xolb5gR"
      },
      "source": [
        "from carro_eletrico import CarroEletrico, Bateria"
      ],
      "execution_count": null,
      "outputs": []
    },
    {
      "cell_type": "code",
      "metadata": {
        "id": "Kb8fReNacDHZ"
      },
      "source": [
        "meu_tesla = CarroEletrico('tesla', 'modelo xa', 2020)"
      ],
      "execution_count": null,
      "outputs": []
    },
    {
      "cell_type": "code",
      "metadata": {
        "colab": {
          "base_uri": "https://localhost:8080/",
          "height": 171
        },
        "id": "9jT3pDHScdYB",
        "outputId": "fe36bf3a-26e9-48fb-9f5d-61b562d3c814"
      },
      "source": [
        "meu_tesla.nome_descritivo()"
      ],
      "execution_count": 1,
      "outputs": [
        {
          "output_type": "error",
          "ename": "NameError",
          "evalue": "ignored",
          "traceback": [
            "\u001b[0;31m---------------------------------------------------------------------------\u001b[0m",
            "\u001b[0;31mNameError\u001b[0m                                 Traceback (most recent call last)",
            "\u001b[0;32m<ipython-input-1-711fe5d7573a>\u001b[0m in \u001b[0;36m<module>\u001b[0;34m()\u001b[0m\n\u001b[0;32m----> 1\u001b[0;31m \u001b[0mmeu_tesla\u001b[0m\u001b[0;34m.\u001b[0m\u001b[0mnome_descritivo\u001b[0m\u001b[0;34m(\u001b[0m\u001b[0;34m)\u001b[0m\u001b[0;34m\u001b[0m\u001b[0;34m\u001b[0m\u001b[0m\n\u001b[0m",
            "\u001b[0;31mNameError\u001b[0m: name 'meu_tesla' is not defined"
          ]
        }
      ]
    },
    {
      "cell_type": "code",
      "metadata": {
        "id": "RiSZmEiV6jsE"
      },
      "source": [
        "from carro03 import Carro, CarroEletrico, Bateria"
      ],
      "execution_count": 15,
      "outputs": []
    },
    {
      "cell_type": "code",
      "metadata": {
        "id": "5Z80gdER7CZP"
      },
      "source": [
        "meu_tesla1 = CarroEletrico('tesla', 'modelo xxa', 2020)"
      ],
      "execution_count": 16,
      "outputs": []
    },
    {
      "cell_type": "code",
      "metadata": {
        "colab": {
          "base_uri": "https://localhost:8080/",
          "height": 35
        },
        "id": "cAmD7TnI9WQ9",
        "outputId": "9ad43c39-c490-42ee-9f81-39ca459d965a"
      },
      "source": [
        "meu_tesla1.nome_descritivo()"
      ],
      "execution_count": 17,
      "outputs": [
        {
          "output_type": "execute_result",
          "data": {
            "application/vnd.google.colaboratory.intrinsic+json": {
              "type": "string"
            },
            "text/plain": [
              "'2020 Tesla Modelo Xxa'"
            ]
          },
          "metadata": {
            "tags": []
          },
          "execution_count": 17
        }
      ]
    }
  ]
}